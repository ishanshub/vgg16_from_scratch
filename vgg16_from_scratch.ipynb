{
  "nbformat": 4,
  "nbformat_minor": 0,
  "metadata": {
    "colab": {
      "provenance": [],
      "collapsed_sections": [],
      "authorship_tag": "ABX9TyNpQnjYUFNw62vh2dG9MkCl",
      "include_colab_link": true
    },
    "kernelspec": {
      "name": "python3",
      "display_name": "Python 3"
    },
    "language_info": {
      "name": "python"
    },
    "accelerator": "GPU",
    "gpuClass": "standard"
  },
  "cells": [
    {
      "cell_type": "markdown",
      "metadata": {
        "id": "view-in-github",
        "colab_type": "text"
      },
      "source": [
        "<a href=\"https://colab.research.google.com/github/ishanshub/vgg16_from_scratch/blob/main/vgg16_from_scratch.ipynb\" target=\"_parent\"><img src=\"https://colab.research.google.com/assets/colab-badge.svg\" alt=\"Open In Colab\"/></a>"
      ]
    },
    {
      "cell_type": "markdown",
      "source": [],
      "metadata": {
        "id": "fYWGwX4jQH4C"
      }
    },
    {
      "cell_type": "markdown",
      "source": [
        "#VGG16 Architecture as per the paper\n",
        "![picture](https://drive.google.com/uc?id=1kY8CEpEMN09t79lg40iFPY5fgTGF2GpV)"
      ],
      "metadata": {
        "id": "yr_BegeDOlKw"
      }
    },
    {
      "cell_type": "code",
      "execution_count": null,
      "metadata": {
        "id": "lyJmZD-0QEfw"
      },
      "outputs": [],
      "source": [
        "from tensorflow.keras.layers import Input, Conv2D, MaxPool2D, Flatten, Dense\n",
        "from tensorflow.keras import Model\n",
        "from tensorflow import keras"
      ]
    },
    {
      "cell_type": "markdown",
      "source": [
        "INput layer"
      ],
      "metadata": {
        "id": "uuapCCz0M729"
      }
    },
    {
      "cell_type": "code",
      "source": [
        "input = Input(shape=(224, 224, 3))"
      ],
      "metadata": {
        "id": "Fqx7PojoMvF9"
      },
      "execution_count": null,
      "outputs": []
    },
    {
      "cell_type": "markdown",
      "source": [
        "1st layer"
      ],
      "metadata": {
        "id": "UAIlnr3CM-Lw"
      }
    },
    {
      "cell_type": "code",
      "source": [
        "x = Conv2D(filters=64, kernel_size=3, padding='same', activation='relu')(input)\n",
        "x = Conv2D (filters=64, kernel_size=3, padding='same', activation='relu')(x)\n",
        "x = MaxPool2D(pool_size=2, strides=2, padding='same')(x)"
      ],
      "metadata": {
        "id": "426m9M9HM9Pf"
      },
      "execution_count": null,
      "outputs": []
    },
    {
      "cell_type": "markdown",
      "source": [
        "2nd layer"
      ],
      "metadata": {
        "id": "LK82g1CDNsHC"
      }
    },
    {
      "cell_type": "code",
      "source": [
        "x = Conv2D (filters =128, kernel_size =3, padding ='same', activation='relu')(x)\n",
        "x = Conv2D (filters =128, kernel_size =3, padding ='same', activation='relu')(x)\n",
        "x = MaxPool2D(pool_size =2, strides =2, padding ='same')(x)"
      ],
      "metadata": {
        "id": "JpACKPpKNmBv"
      },
      "execution_count": null,
      "outputs": []
    },
    {
      "cell_type": "markdown",
      "source": [
        "3rd layer"
      ],
      "metadata": {
        "id": "5LVf9myrNuMz"
      }
    },
    {
      "cell_type": "code",
      "source": [
        "x = Conv2D (filters =256, kernel_size =3, padding ='same', activation='relu')(x) \n",
        "x = Conv2D (filters =256, kernel_size =3, padding ='same', activation='relu')(x) \n",
        "x = Conv2D (filters =256, kernel_size =3, padding ='same', activation='relu')(x) \n",
        "x = MaxPool2D(pool_size =2, strides =2, padding ='same')(x)"
      ],
      "metadata": {
        "id": "OZ6neEI_N0aE"
      },
      "execution_count": null,
      "outputs": []
    },
    {
      "cell_type": "markdown",
      "source": [
        "4th layer"
      ],
      "metadata": {
        "id": "8a3jWZSWNukd"
      }
    },
    {
      "cell_type": "code",
      "source": [
        "x = Conv2D (filters =512, kernel_size =3, padding ='same', activation='relu')(x)\n",
        "x = Conv2D (filters =512, kernel_size =3, padding ='same', activation='relu')(x)\n",
        "x = Conv2D (filters =512, kernel_size =3, padding ='same', activation='relu')(x)\n",
        "x = MaxPool2D(pool_size =2, strides =2, padding ='same')(x)"
      ],
      "metadata": {
        "id": "ITvxAbRkN1Pw"
      },
      "execution_count": null,
      "outputs": []
    },
    {
      "cell_type": "markdown",
      "source": [
        "5th layer"
      ],
      "metadata": {
        "id": "zQevdwVcNu07"
      }
    },
    {
      "cell_type": "code",
      "source": [
        "x = Conv2D (filters =512, kernel_size =3, padding ='same', activation='relu')(x)\n",
        "x = Conv2D (filters =512, kernel_size =3, padding ='same', activation='relu')(x)\n",
        "x = Conv2D (filters =512, kernel_size =3, padding ='same', activation='relu')(x)\n",
        "x = MaxPool2D(pool_size =2, strides =2, padding ='same')(x)"
      ],
      "metadata": {
        "id": "3XO4hUuqNz6A"
      },
      "execution_count": null,
      "outputs": []
    },
    {
      "cell_type": "markdown",
      "source": [
        "dense layer"
      ],
      "metadata": {
        "id": "RcIPbIVPOEnI"
      }
    },
    {
      "cell_type": "code",
      "source": [
        "x = Flatten()(x) \n",
        "x = Dense(units = 4096, activation ='relu')(x) \n",
        "x = Dense(units = 4096, activation ='relu')(x) \n",
        "output = Dense(units = 1000, activation ='softmax')(x)"
      ],
      "metadata": {
        "id": "5DYUagxeOFW7"
      },
      "execution_count": null,
      "outputs": []
    },
    {
      "cell_type": "markdown",
      "source": [
        "create model"
      ],
      "metadata": {
        "id": "fA_O0M26OLWw"
      }
    },
    {
      "cell_type": "code",
      "source": [
        "model = Model (inputs=input, outputs =output)\n",
        "model.summary()"
      ],
      "metadata": {
        "colab": {
          "base_uri": "https://localhost:8080/"
        },
        "id": "_ZpPTU3DOKbp",
        "outputId": "c5d78602-921b-44be-d6ee-5691f423ee4c"
      },
      "execution_count": null,
      "outputs": [
        {
          "output_type": "stream",
          "name": "stdout",
          "text": [
            "Model: \"model\"\n",
            "_________________________________________________________________\n",
            " Layer (type)                Output Shape              Param #   \n",
            "=================================================================\n",
            " input_1 (InputLayer)        [(None, 224, 224, 3)]     0         \n",
            "                                                                 \n",
            " conv2d (Conv2D)             (None, 224, 224, 64)      1792      \n",
            "                                                                 \n",
            " conv2d_1 (Conv2D)           (None, 224, 224, 64)      36928     \n",
            "                                                                 \n",
            " max_pooling2d (MaxPooling2D  (None, 112, 112, 64)     0         \n",
            " )                                                               \n",
            "                                                                 \n",
            " conv2d_2 (Conv2D)           (None, 112, 112, 128)     73856     \n",
            "                                                                 \n",
            " conv2d_3 (Conv2D)           (None, 112, 112, 128)     147584    \n",
            "                                                                 \n",
            " max_pooling2d_1 (MaxPooling  (None, 56, 56, 128)      0         \n",
            " 2D)                                                             \n",
            "                                                                 \n",
            " conv2d_4 (Conv2D)           (None, 56, 56, 256)       295168    \n",
            "                                                                 \n",
            " conv2d_5 (Conv2D)           (None, 56, 56, 256)       590080    \n",
            "                                                                 \n",
            " conv2d_6 (Conv2D)           (None, 56, 56, 256)       590080    \n",
            "                                                                 \n",
            " max_pooling2d_2 (MaxPooling  (None, 28, 28, 256)      0         \n",
            " 2D)                                                             \n",
            "                                                                 \n",
            " conv2d_7 (Conv2D)           (None, 28, 28, 512)       1180160   \n",
            "                                                                 \n",
            " conv2d_8 (Conv2D)           (None, 28, 28, 512)       2359808   \n",
            "                                                                 \n",
            " conv2d_9 (Conv2D)           (None, 28, 28, 512)       2359808   \n",
            "                                                                 \n",
            " max_pooling2d_3 (MaxPooling  (None, 14, 14, 512)      0         \n",
            " 2D)                                                             \n",
            "                                                                 \n",
            " conv2d_10 (Conv2D)          (None, 14, 14, 512)       2359808   \n",
            "                                                                 \n",
            " conv2d_11 (Conv2D)          (None, 14, 14, 512)       2359808   \n",
            "                                                                 \n",
            " conv2d_12 (Conv2D)          (None, 14, 14, 512)       2359808   \n",
            "                                                                 \n",
            " max_pooling2d_4 (MaxPooling  (None, 7, 7, 512)        0         \n",
            " 2D)                                                             \n",
            "                                                                 \n",
            " flatten (Flatten)           (None, 25088)             0         \n",
            "                                                                 \n",
            " dense (Dense)               (None, 4096)              102764544 \n",
            "                                                                 \n",
            " dense_1 (Dense)             (None, 4096)              16781312  \n",
            "                                                                 \n",
            " dense_2 (Dense)             (None, 1000)              4097000   \n",
            "                                                                 \n",
            "=================================================================\n",
            "Total params: 138,357,544\n",
            "Trainable params: 138,357,544\n",
            "Non-trainable params: 0\n",
            "_________________________________________________________________\n"
          ]
        }
      ]
    }
  ]
}